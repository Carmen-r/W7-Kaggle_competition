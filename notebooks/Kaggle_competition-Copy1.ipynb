{
 "cells": [
  {
   "cell_type": "markdown",
   "id": "bab32295",
   "metadata": {},
   "source": [
    "## Proyect-Kaggle-Competition 💎"
   ]
  },
  {
   "cell_type": "markdown",
   "id": "50cc6305",
   "metadata": {},
   "source": [
    "`d`: only for test & sample submission files, id for prediction sample identification\n",
    "\n",
    "`price`: price in USD\n",
    "\n",
    "`carat`: weight of the diamond\n",
    "\n",
    "`cut`: quality of the cut (Fair, Good, Very Good, Premium, Ideal)\n",
    "\n",
    "`color`: diamond colour\n",
    "\n",
    "`clarity`: a measurement of how clear the diamond is\n",
    "\n",
    "`x`: length in mm\n",
    "\n",
    "`y`: width in mm\n",
    "\n",
    "`z`: depth in mm\n",
    "\n",
    "`depth`: total depth percentage = z / mean(x, y) = 2 * z / (x + y) (43--79)\n",
    "\n",
    "`table`: width of top of diamond relative to widest point (43--95)"
   ]
  },
  {
   "cell_type": "markdown",
   "id": "927fddb1",
   "metadata": {},
   "source": [
    "### Libraries"
   ]
  },
  {
   "cell_type": "code",
   "execution_count": 2,
   "id": "fd47f223",
   "metadata": {},
   "outputs": [],
   "source": [
    "import pandas as pd\n",
    "import seaborn as sns\n",
    "import numpy as np\n",
    "\n",
    "#Plot\n",
    "import matplotlib.pyplot as plt\n",
    "\n",
    "#Statsmodels\n",
    "import statsmodels.formula.api as smf\n",
    "\n",
    "#Metrics\n",
    "from sklearn import metrics\n",
    "from sklearn.metrics import mean_squared_error\n",
    "\n",
    "#Split\n",
    "from sklearn.model_selection import train_test_split\n",
    "\n",
    "#Linear\n",
    "from sklearn.linear_model import LinearRegression\n",
    "from sklearn.linear_model import Ridge, Lasso\n",
    "from sklearn.linear_model import SGDRegressor\n",
    "\n",
    "#Ensemble\n",
    "from sklearn.ensemble import RandomForestRegressor\n",
    "from sklearn.ensemble import GradientBoostingRegressor\n",
    "\n",
    "#Neighbors\n",
    "from sklearn.neighbors import KNeighborsRegressor\n"
   ]
  },
  {
   "cell_type": "markdown",
   "id": "02303459",
   "metadata": {},
   "source": [
    "### Download the dataset"
   ]
  },
  {
   "cell_type": "code",
   "execution_count": 2,
   "id": "7271cfc6",
   "metadata": {},
   "outputs": [
    {
     "name": "stdout",
     "output_type": "stream",
     "text": [
      "Warning: Your Kaggle API key is readable by other users on this system! To fix this, you can run 'chmod 600 /Users/Carmenrodriguez/.kaggle/kaggle.json'\n",
      "diamonds-datamad0321.zip: Skipping, found more recently modified local copy (use --force to force download)\n"
     ]
    }
   ],
   "source": [
    "!kaggle competitions download -c diamonds-datamad0321"
   ]
  },
  {
   "cell_type": "code",
   "execution_count": 3,
   "id": "cd5ff8d8",
   "metadata": {},
   "outputs": [
    {
     "name": "stdout",
     "output_type": "stream",
     "text": [
      "x sample_submission.csv\r\n",
      "x test.csv\r\n",
      "x train.csv\r\n"
     ]
    }
   ],
   "source": [
    "!tar -xzvf diamonds-datamad0321.zip"
   ]
  },
  {
   "cell_type": "code",
   "execution_count": 4,
   "id": "d1a31725",
   "metadata": {},
   "outputs": [],
   "source": [
    "!rm -rf pfizer-vaccine-tweets.zip"
   ]
  },
  {
   "cell_type": "code",
   "execution_count": 5,
   "id": "94f42c8c",
   "metadata": {},
   "outputs": [
    {
     "name": "stdout",
     "output_type": "stream",
     "text": [
      "Kaggle_competition-Copy1.ipynb model_1.csv\r\n",
      "Kaggle_competition.ipynb       sample_submission.csv\r\n",
      "README.md                      test.csv\r\n",
      "diamonds-datamad0321.zip       train.csv\r\n",
      "model.csv\r\n"
     ]
    }
   ],
   "source": [
    "!ls"
   ]
  },
  {
   "cell_type": "markdown",
   "id": "bf25e751",
   "metadata": {},
   "source": [
    "### 0. Explore the dataset"
   ]
  },
  {
   "cell_type": "code",
   "execution_count": 6,
   "id": "9e03d79f",
   "metadata": {},
   "outputs": [],
   "source": [
    "df_test = pd.read_csv('data/test.csv',encoding = \"ISO-8859-1\")\n",
    "df_train = pd.read_csv('data/train.csv',encoding = \"ISO-8859-1\")"
   ]
  },
  {
   "cell_type": "code",
   "execution_count": 5,
   "id": "728fe348",
   "metadata": {},
   "outputs": [
    {
     "data": {
      "text/plain": [
       "id         0\n",
       "carat      0\n",
       "cut        0\n",
       "color      0\n",
       "clarity    0\n",
       "depth      0\n",
       "table      0\n",
       "x          0\n",
       "y          0\n",
       "z          0\n",
       "dtype: int64"
      ]
     },
     "execution_count": 5,
     "metadata": {},
     "output_type": "execute_result"
    }
   ],
   "source": [
    "df_test.isna().sum()"
   ]
  },
  {
   "cell_type": "code",
   "execution_count": 4,
   "id": "72106891",
   "metadata": {},
   "outputs": [
    {
     "data": {
      "text/plain": [
       "id         0\n",
       "carat      0\n",
       "cut        0\n",
       "color      0\n",
       "clarity    0\n",
       "depth      0\n",
       "table      0\n",
       "x          0\n",
       "y          0\n",
       "z          0\n",
       "price      0\n",
       "dtype: int64"
      ]
     },
     "execution_count": 4,
     "metadata": {},
     "output_type": "execute_result"
    }
   ],
   "source": [
    "df_train.isnull().sum()"
   ]
  },
  {
   "cell_type": "code",
   "execution_count": 5,
   "id": "ade99535",
   "metadata": {},
   "outputs": [
    {
     "name": "stdout",
     "output_type": "stream",
     "text": [
      "<class 'pandas.core.frame.DataFrame'>\n",
      "RangeIndex: 40455 entries, 0 to 40454\n",
      "Data columns (total 11 columns):\n",
      " #   Column   Non-Null Count  Dtype  \n",
      "---  ------   --------------  -----  \n",
      " 0   id       40455 non-null  int64  \n",
      " 1   carat    40455 non-null  float64\n",
      " 2   cut      40455 non-null  object \n",
      " 3   color    40455 non-null  object \n",
      " 4   clarity  40455 non-null  object \n",
      " 5   depth    40455 non-null  float64\n",
      " 6   table    40455 non-null  float64\n",
      " 7   x        40455 non-null  float64\n",
      " 8   y        40455 non-null  float64\n",
      " 9   z        40455 non-null  float64\n",
      " 10  price    40455 non-null  float64\n",
      "dtypes: float64(7), int64(1), object(3)\n",
      "memory usage: 3.4+ MB\n"
     ]
    }
   ],
   "source": [
    "df_train.info()"
   ]
  },
  {
   "cell_type": "code",
   "execution_count": 6,
   "id": "071e23b2",
   "metadata": {},
   "outputs": [
    {
     "name": "stdout",
     "output_type": "stream",
     "text": [
      "<class 'pandas.core.frame.DataFrame'>\n",
      "RangeIndex: 13485 entries, 0 to 13484\n",
      "Data columns (total 10 columns):\n",
      " #   Column   Non-Null Count  Dtype  \n",
      "---  ------   --------------  -----  \n",
      " 0   id       13485 non-null  int64  \n",
      " 1   carat    13485 non-null  float64\n",
      " 2   cut      13485 non-null  object \n",
      " 3   color    13485 non-null  object \n",
      " 4   clarity  13485 non-null  object \n",
      " 5   depth    13485 non-null  float64\n",
      " 6   table    13485 non-null  float64\n",
      " 7   x        13485 non-null  float64\n",
      " 8   y        13485 non-null  float64\n",
      " 9   z        13485 non-null  float64\n",
      "dtypes: float64(6), int64(1), object(3)\n",
      "memory usage: 1.0+ MB\n"
     ]
    }
   ],
   "source": [
    "df_test.info()"
   ]
  },
  {
   "cell_type": "markdown",
   "id": "42112bd7",
   "metadata": {},
   "source": [
    "### 1. Correlation between variables"
   ]
  },
  {
   "cell_type": "code",
   "execution_count": 7,
   "id": "bbc3b15c",
   "metadata": {},
   "outputs": [],
   "source": [
    "corrMatrix=df_train[['carat','depth','table','x','y','z','price']].corr()"
   ]
  },
  {
   "cell_type": "code",
   "execution_count": 8,
   "id": "ac8eef06",
   "metadata": {},
   "outputs": [
    {
     "data": {
      "image/png": "[encoded data removed]",
      "text/plain": [
       "<Figure size 720x720 with 2 Axes>"
      ]
     },
     "metadata": {
      "needs_background": "light"
     },
     "output_type": "display_data"
    }
   ],
   "source": [
    "f, ax = plt.subplots(figsize=(10, 10))\n",
    "ax = sns.heatmap(corrMatrix, square=True,annot=True)"
   ]
  },
  {
   "cell_type": "code",
   "execution_count": 9,
   "id": "084664d5",
   "metadata": {},
   "outputs": [],
   "source": [
    "corrMatrix=df_test[['carat','depth','table','x','y','z']].corr()"
   ]
  },
  {
   "cell_type": "code",
   "execution_count": 10,
   "id": "89a8d6cb",
   "metadata": {},
   "outputs": [
    {
     "data": {
      "image/png": "[encoded data removed]",
      "text/plain": [
       "<Figure size 720x720 with 2 Axes>"
      ]
     },
     "metadata": {
      "needs_background": "light"
     },
     "output_type": "display_data"
    }
   ],
   "source": [
    "f, ax = plt.subplots(figsize=(10, 10))\n",
    "ax = sns.heatmap(corrMatrix, square=True,annot=True)"
   ]
  },
  {
   "cell_type": "code",
   "execution_count": 32,
   "id": "d00ee344",
   "metadata": {},
   "outputs": [
    {
     "data": {
      "text/html": [
       "<table class=\"simpletable\">\n",
       "<caption>OLS Regression Results</caption>\n",
       "<tr>\n",
       "  <th>Dep. Variable:</th>          <td>price</td>      <th>  R-squared:         </th> <td>   0.923</td> \n",
       "</tr>\n",
       "<tr>\n",
       "  <th>Model:</th>                   <td>OLS</td>       <th>  Adj. R-squared:    </th> <td>   0.923</td> \n",
       "</tr>\n",
       "<tr>\n",
       "  <th>Method:</th>             <td>Least Squares</td>  <th>  F-statistic:       </th> <td>8.116e+04</td>\n",
       "</tr>\n",
       "<tr>\n",
       "  <th>Date:</th>             <td>Sat, 08 May 2021</td> <th>  Prob (F-statistic):</th>  <td>  0.00</td>  \n",
       "</tr>\n",
       "<tr>\n",
       "  <th>Time:</th>                 <td>17:59:18</td>     <th>  Log-Likelihood:    </th> <td> -6125.0</td> \n",
       "</tr>\n",
       "<tr>\n",
       "  <th>No. Observations:</th>      <td> 40455</td>      <th>  AIC:               </th> <td>1.226e+04</td>\n",
       "</tr>\n",
       "<tr>\n",
       "  <th>Df Residuals:</th>          <td> 40448</td>      <th>  BIC:               </th> <td>1.232e+04</td>\n",
       "</tr>\n",
       "<tr>\n",
       "  <th>Df Model:</th>              <td>     6</td>      <th>                     </th>     <td> </td>    \n",
       "</tr>\n",
       "<tr>\n",
       "  <th>Covariance Type:</th>      <td>nonrobust</td>    <th>                     </th>     <td> </td>    \n",
       "</tr>\n",
       "</table>\n",
       "<table class=\"simpletable\">\n",
       "<tr>\n",
       "      <td></td>         <th>coef</th>     <th>std err</th>      <th>t</th>      <th>P>|t|</th>  <th>[0.025</th>    <th>0.975]</th>  \n",
       "</tr>\n",
       "<tr>\n",
       "  <th>Intercept</th> <td>    0.9189</td> <td>    0.095</td> <td>    9.623</td> <td> 0.000</td> <td>    0.732</td> <td>    1.106</td>\n",
       "</tr>\n",
       "<tr>\n",
       "  <th>carat</th>     <td>   -0.6642</td> <td>    0.014</td> <td>  -48.967</td> <td> 0.000</td> <td>   -0.691</td> <td>   -0.638</td>\n",
       "</tr>\n",
       "<tr>\n",
       "  <th>depth</th>     <td>    0.0230</td> <td>    0.001</td> <td>   19.754</td> <td> 0.000</td> <td>    0.021</td> <td>    0.025</td>\n",
       "</tr>\n",
       "<tr>\n",
       "  <th>table</th>     <td>   -0.0101</td> <td>    0.001</td> <td>  -15.105</td> <td> 0.000</td> <td>   -0.011</td> <td>   -0.009</td>\n",
       "</tr>\n",
       "<tr>\n",
       "  <th>x</th>         <td>    1.0791</td> <td>    0.009</td> <td>  123.984</td> <td> 0.000</td> <td>    1.062</td> <td>    1.096</td>\n",
       "</tr>\n",
       "<tr>\n",
       "  <th>y</th>         <td>    0.0362</td> <td>    0.005</td> <td>    7.499</td> <td> 0.000</td> <td>    0.027</td> <td>    0.046</td>\n",
       "</tr>\n",
       "<tr>\n",
       "  <th>z</th>         <td>    0.0469</td> <td>    0.009</td> <td>    5.385</td> <td> 0.000</td> <td>    0.030</td> <td>    0.064</td>\n",
       "</tr>\n",
       "</table>\n",
       "<table class=\"simpletable\">\n",
       "<tr>\n",
       "  <th>Omnibus:</th>       <td>39148.053</td> <th>  Durbin-Watson:     </th>   <td>   1.997</td>  \n",
       "</tr>\n",
       "<tr>\n",
       "  <th>Prob(Omnibus):</th>  <td> 0.000</td>   <th>  Jarque-Bera (JB):  </th> <td>21477594.704</td>\n",
       "</tr>\n",
       "<tr>\n",
       "  <th>Skew:</th>           <td> 3.875</td>   <th>  Prob(JB):          </th>   <td>    0.00</td>  \n",
       "</tr>\n",
       "<tr>\n",
       "  <th>Kurtosis:</th>       <td>115.612</td>  <th>  Cond. No.          </th>   <td>5.80e+03</td>  \n",
       "</tr>\n",
       "</table><br/><br/>Notes:<br/>[1] Standard Errors assume that the covariance matrix of the errors is correctly specified.<br/>[2] The condition number is large, 5.8e+03. This might indicate that there are<br/>strong multicollinearity or other numerical problems."
      ],
      "text/plain": [
       "<class 'statsmodels.iolib.summary.Summary'>\n",
       "\"\"\"\n",
       "                            OLS Regression Results                            \n",
       "==============================================================================\n",
       "Dep. Variable:                  price   R-squared:                       0.923\n",
       "Model:                            OLS   Adj. R-squared:                  0.923\n",
       "Method:                 Least Squares   F-statistic:                 8.116e+04\n",
       "Date:                Sat, 08 May 2021   Prob (F-statistic):               0.00\n",
       "Time:                        17:59:18   Log-Likelihood:                -6125.0\n",
       "No. Observations:               40455   AIC:                         1.226e+04\n",
       "Df Residuals:                   40448   BIC:                         1.232e+04\n",
       "Df Model:                           6                                         \n",
       "Covariance Type:            nonrobust                                         \n",
       "==============================================================================\n",
       "                 coef    std err          t      P>|t|      [0.025      0.975]\n",
       "------------------------------------------------------------------------------\n",
       "Intercept      0.9189      0.095      9.623      0.000       0.732       1.106\n",
       "carat         -0.6642      0.014    -48.967      0.000      -0.691      -0.638\n",
       "depth          0.0230      0.001     19.754      0.000       0.021       0.025\n",
       "table         -0.0101      0.001    -15.105      0.000      -0.011      -0.009\n",
       "x              1.0791      0.009    123.984      0.000       1.062       1.096\n",
       "y              0.0362      0.005      7.499      0.000       0.027       0.046\n",
       "z              0.0469      0.009      5.385      0.000       0.030       0.064\n",
       "==============================================================================\n",
       "Omnibus:                    39148.053   Durbin-Watson:                   1.997\n",
       "Prob(Omnibus):                  0.000   Jarque-Bera (JB):         21477594.704\n",
       "Skew:                           3.875   Prob(JB):                         0.00\n",
       "Kurtosis:                     115.612   Cond. No.                     5.80e+03\n",
       "==============================================================================\n",
       "\n",
       "Notes:\n",
       "[1] Standard Errors assume that the covariance matrix of the errors is correctly specified.\n",
       "[2] The condition number is large, 5.8e+03. This might indicate that there are\n",
       "strong multicollinearity or other numerical problems.\n",
       "\"\"\""
      ]
     },
     "execution_count": 32,
     "metadata": {},
     "output_type": "execute_result"
    }
   ],
   "source": [
    "results = smf.ols(\"price ~ carat + depth + table + x + y + z\", data = df_train).fit()\n",
    "results.summary()"
   ]
  },
  {
   "cell_type": "markdown",
   "id": "f4083764",
   "metadata": {},
   "source": [
    "- The model explains 92% of the variable in price\n",
    "- Coef is the measurement of how change in that variable affects the price (in this case, x have a positive coef and the change is greater than the others)"
   ]
  },
  {
   "cell_type": "markdown",
   "id": "e9573188",
   "metadata": {},
   "source": [
    "### 2. Handle Remaining Categorical Data & Convert to Ordinal"
   ]
  },
  {
   "cell_type": "markdown",
   "id": "580eeebb",
   "metadata": {},
   "source": [
    "#### 2.1 CUT"
   ]
  },
  {
   "cell_type": "code",
   "execution_count": 11,
   "id": "97aff284",
   "metadata": {},
   "outputs": [
    {
     "data": {
      "text/plain": [
       "array(['Ideal', 'Good', 'Premium', 'Very Good', 'Fair'], dtype=object)"
      ]
     },
     "execution_count": 11,
     "metadata": {},
     "output_type": "execute_result"
    }
   ],
   "source": [
    "df_test.cut.unique()"
   ]
  },
  {
   "cell_type": "code",
   "execution_count": 12,
   "id": "27e4c0b0",
   "metadata": {},
   "outputs": [],
   "source": [
    "df_test['cut'] = df_test['cut'].replace(['Premium'],'Ideal')"
   ]
  },
  {
   "cell_type": "code",
   "execution_count": 13,
   "id": "db9b0533",
   "metadata": {},
   "outputs": [
    {
     "data": {
      "text/plain": [
       "array(['Premium', 'Good', 'Very Good', 'Ideal', 'Fair'], dtype=object)"
      ]
     },
     "execution_count": 13,
     "metadata": {},
     "output_type": "execute_result"
    }
   ],
   "source": [
    "df_train.cut.unique()"
   ]
  },
  {
   "cell_type": "code",
   "execution_count": 14,
   "id": "d5b4c4de",
   "metadata": {},
   "outputs": [],
   "source": [
    "df_train['cut'] = df_train['cut'].replace(['Premium'],'Ideal')"
   ]
  },
  {
   "cell_type": "code",
   "execution_count": 15,
   "id": "d0b43723",
   "metadata": {},
   "outputs": [],
   "source": [
    "dic_for_cut = { \"Fair\": 1,\n",
    "                \"Good\": 2,\n",
    "                \"Very Good\": 3,\n",
    "                \"Ideal\":4,\n",
    "}"
   ]
  },
  {
   "cell_type": "code",
   "execution_count": 16,
   "id": "f61bd568",
   "metadata": {},
   "outputs": [],
   "source": [
    "df_test.cut = df_test.cut.map(dic_for_cut)"
   ]
  },
  {
   "cell_type": "code",
   "execution_count": 17,
   "id": "62dffba1",
   "metadata": {},
   "outputs": [],
   "source": [
    "df_train.cut = df_train.cut.map(dic_for_cut)"
   ]
  },
  {
   "cell_type": "markdown",
   "id": "36781760",
   "metadata": {},
   "source": [
    "#### 2.2 Color"
   ]
  },
  {
   "cell_type": "code",
   "execution_count": 18,
   "id": "015e9ff2",
   "metadata": {},
   "outputs": [
    {
     "data": {
      "text/plain": [
       "array(['H', 'D', 'F', 'E', 'G', 'I', 'J'], dtype=object)"
      ]
     },
     "execution_count": 18,
     "metadata": {},
     "output_type": "execute_result"
    }
   ],
   "source": [
    "df_test.color.unique()"
   ]
  },
  {
   "cell_type": "code",
   "execution_count": 19,
   "id": "a1804884",
   "metadata": {},
   "outputs": [
    {
     "data": {
      "text/plain": [
       "array(['G', 'H', 'J', 'F', 'E', 'I', 'D'], dtype=object)"
      ]
     },
     "execution_count": 19,
     "metadata": {},
     "output_type": "execute_result"
    }
   ],
   "source": [
    "df_train.color.unique()"
   ]
  },
  {
   "cell_type": "code",
   "execution_count": 20,
   "id": "77878fb4",
   "metadata": {},
   "outputs": [],
   "source": [
    "dic_for_color = { \"D\": 7,\n",
    "                \"E\": 6,\n",
    "                \"F\": 5,\n",
    "                \"G\":4,\n",
    "                \"H\": 3,\n",
    "                \"I\": 2,\n",
    "                \"J\":1,\n",
    "}"
   ]
  },
  {
   "cell_type": "code",
   "execution_count": 21,
   "id": "f02fd9fe",
   "metadata": {},
   "outputs": [],
   "source": [
    "df_test.color = df_test.color.map(dic_for_color)"
   ]
  },
  {
   "cell_type": "code",
   "execution_count": 22,
   "id": "41397e38",
   "metadata": {},
   "outputs": [],
   "source": [
    "df_train.color = df_train.color.map(dic_for_color)"
   ]
  },
  {
   "cell_type": "markdown",
   "id": "f7dad56b",
   "metadata": {},
   "source": [
    "#### 2.3 Clarity"
   ]
  },
  {
   "cell_type": "code",
   "execution_count": 23,
   "id": "f4daee42",
   "metadata": {},
   "outputs": [
    {
     "data": {
      "text/plain": [
       "array(['VS1', 'VS2', 'SI2', 'IF', 'SI1', 'VVS2', 'VVS1', 'I1'],\n",
       "      dtype=object)"
      ]
     },
     "execution_count": 23,
     "metadata": {},
     "output_type": "execute_result"
    }
   ],
   "source": [
    "df_train.clarity.unique()"
   ]
  },
  {
   "cell_type": "code",
   "execution_count": 24,
   "id": "bc7190c0",
   "metadata": {},
   "outputs": [],
   "source": [
    "dic_for_clarity = { \"IF\": 8,\n",
    "                \"VVS1\": 7,\n",
    "                \"VVS2\": 6,\n",
    "                \"VS1\": 5,\n",
    "                \"VS2\": 4,\n",
    "                \"SI1\": 3,\n",
    "                \"SI2\":2,\n",
    "                \"I1\": 1,\n",
    "}"
   ]
  },
  {
   "cell_type": "code",
   "execution_count": 25,
   "id": "cd6f073b",
   "metadata": {},
   "outputs": [],
   "source": [
    "df_test.clarity = df_test.clarity.map(dic_for_clarity)"
   ]
  },
  {
   "cell_type": "code",
   "execution_count": 26,
   "id": "0a482ef6",
   "metadata": {},
   "outputs": [],
   "source": [
    "df_train.clarity = df_train.clarity.map(dic_for_clarity)"
   ]
  },
  {
   "cell_type": "markdown",
   "id": "ccaa2c19",
   "metadata": {},
   "source": [
    "### 3. Assign and split the variables"
   ]
  },
  {
   "cell_type": "code",
   "execution_count": 27,
   "id": "af9e4c12",
   "metadata": {},
   "outputs": [],
   "source": [
    "X = df_train.drop(\"price\", axis=1)\n",
    "y = df_train[\"price\"]\n",
    "df_testX = df_test"
   ]
  },
  {
   "cell_type": "code",
   "execution_count": 28,
   "id": "0dcbd089",
   "metadata": {},
   "outputs": [],
   "source": [
    "X_train, X_test, y_train, y_test = train_test_split(X, y, test_size = 0.2, random_state=666)"
   ]
  },
  {
   "cell_type": "markdown",
   "id": "5d65168f",
   "metadata": {},
   "source": [
    "## Models"
   ]
  },
  {
   "cell_type": "markdown",
   "id": "06f54c8a",
   "metadata": {},
   "source": [
    "### 1. Linear Regression"
   ]
  },
  {
   "cell_type": "markdown",
   "id": "7930f591",
   "metadata": {},
   "source": [
    "#### Train the model, make predictions and calculate the RMSE"
   ]
  },
  {
   "cell_type": "code",
   "execution_count": 29,
   "id": "5b186363",
   "metadata": {},
   "outputs": [
    {
     "name": "stdout",
     "output_type": "stream",
     "text": [
      "The RMSE of the LinearRegression model is 0.030057553173125456\n"
     ]
    }
   ],
   "source": [
    "lr = LinearRegression()\n",
    "\n",
    "lr.fit(X=X_train, y=y_train)\n",
    "\n",
    "y_pred_lr=lr.predict(X_test)\n",
    "\n",
    "lrreg_rmse = mean_squared_error(y_test, y_pred_lr)\n",
    "print(f\"The RMSE of the LinearRegression model is {lrreg_rmse}\")"
   ]
  },
  {
   "cell_type": "markdown",
   "id": "1a163c9e",
   "metadata": {},
   "source": [
    "#### Train the test "
   ]
  },
  {
   "cell_type": "code",
   "execution_count": 30,
   "id": "d3ae8cdc",
   "metadata": {},
   "outputs": [],
   "source": [
    "model=lr.fit(X, y)"
   ]
  },
  {
   "cell_type": "code",
   "execution_count": 31,
   "id": "54e62a52",
   "metadata": {},
   "outputs": [],
   "source": [
    "price = model.predict(df_test)"
   ]
  },
  {
   "cell_type": "code",
   "execution_count": 32,
   "id": "f3e55d3a",
   "metadata": {},
   "outputs": [],
   "source": [
    "df_test['price'] = price"
   ]
  },
  {
   "cell_type": "markdown",
   "id": "d75d1b4d",
   "metadata": {},
   "source": [
    "### 2. Ridge, Lasso, SGDRegressor, KNeighborsRegressor, GradientBoostingRegressor"
   ]
  },
  {
   "cell_type": "markdown",
   "id": "4a983ce7",
   "metadata": {},
   "source": [
    "#### Train the model"
   ]
  },
  {
   "cell_type": "code",
   "execution_count": 33,
   "id": "90cb7610",
   "metadata": {},
   "outputs": [],
   "source": [
    "models = { \"ridge\": Ridge(),\n",
    "          \"lasso\": Lasso(),\n",
    "          \"sgd\": SGDRegressor(),\n",
    "          \"knn\": KNeighborsRegressor(),\n",
    "          \"gradient\": GradientBoostingRegressor()\n",
    "}"
   ]
  },
  {
   "cell_type": "code",
   "execution_count": 34,
   "id": "5c1bde4f",
   "metadata": {},
   "outputs": [
    {
     "name": "stdout",
     "output_type": "stream",
     "text": [
      "Training the model: ridge\n",
      "Finish 🥳\n",
      "Training the model: lasso\n",
      "Finish 🥳\n",
      "Training the model: sgd\n",
      "Finish 🥳\n",
      "Training the model: knn\n",
      "Finish 🥳\n",
      "Training the model: gradient\n",
      "Finish 🥳\n"
     ]
    }
   ],
   "source": [
    "for name, model in models.items():\n",
    "    print(f\"Training the model: {name}\")\n",
    "    model.fit(X=X_train,y=y_train)\n",
    "    print(f\"Finish 🥳\")"
   ]
  },
  {
   "cell_type": "code",
   "execution_count": 35,
   "id": "4f160146",
   "metadata": {},
   "outputs": [
    {
     "name": "stdout",
     "output_type": "stream",
     "text": [
      "ridge\n",
      "MAE:  0.12140961161918443\n",
      "MSE:  0.03007042287869806\n",
      "RMSE:  0.17340825493239376\n",
      "R2:  0.9708370369102355\n",
      "\n",
      "\n",
      "lasso\n",
      "MAE:  0.8055747676921582\n",
      "MSE:  0.872505878831829\n",
      "RMSE:  0.9340802314746999\n",
      "R2:  0.15382444594750333\n",
      "\n",
      "\n",
      "sgd\n",
      "MAE:  5.058619128099237e+16\n",
      "MSE:  3.4182284252042224e+33\n",
      "RMSE:  5.8465617461925624e+16\n",
      "R2:  -3.315073745345704e+33\n",
      "\n",
      "\n",
      "knn\n",
      "MAE:  0.7664810283030528\n",
      "MSE:  0.8642087598764059\n",
      "RMSE:  0.9296282912414003\n",
      "R2:  0.16187117594609612\n",
      "\n",
      "\n",
      "gradient\n",
      "MAE:  0.08212926647416617\n",
      "MSE:  0.011349688334498311\n",
      "RMSE:  0.10653491603459549\n",
      "R2:  0.9889928205095586\n",
      "\n",
      "\n"
     ]
    }
   ],
   "source": [
    "for name, model in models.items():\n",
    "    y_pred_models = model.predict(X_test)\n",
    "    print(f\"{name}\")\n",
    "    print(\"MAE: \", metrics.mean_absolute_error(y_test, y_pred_models))\n",
    "    print(\"MSE: \", metrics.mean_squared_error(y_test, y_pred_models))\n",
    "    print(\"RMSE: \", np.sqrt(metrics.mean_squared_error(y_test, y_pred_models)))\n",
    "    print(\"R2: \", metrics.r2_score(y_test, y_pred_models))\n",
    "    print(\"\\n\")"
   ]
  },
  {
   "cell_type": "markdown",
   "id": "02e2f1ec",
   "metadata": {},
   "source": [
    "#### Train the test"
   ]
  },
  {
   "cell_type": "code",
   "execution_count": null,
   "id": "2d3d9a04",
   "metadata": {},
   "outputs": [],
   "source": [
    "Gr=GradientBoostingRegressor()\n",
    "\n",
    "model_1 = Gr.fit(X, y)\n",
    "\n",
    "y_pred_gr = model_1.predict(df_test)"
   ]
  },
  {
   "cell_type": "code",
   "execution_count": null,
   "id": "992134ad",
   "metadata": {},
   "outputs": [],
   "source": [
    "grreg_rmse = metrics.mean_squared_error(y_test, y_pred_gr)\n",
    "print(f\"The RMSE of the GradientBoostingRegressor model is {grreg_rmse}\")"
   ]
  },
  {
   "cell_type": "markdown",
   "id": "ffffe168",
   "metadata": {},
   "source": [
    "### 3. RandomForest"
   ]
  },
  {
   "cell_type": "markdown",
   "id": "119b15f2",
   "metadata": {},
   "source": [
    "#### Train the model"
   ]
  },
  {
   "cell_type": "code",
   "execution_count": 29,
   "id": "13ca8f8a",
   "metadata": {},
   "outputs": [
    {
     "name": "stdout",
     "output_type": "stream",
     "text": [
      "The RMSE of the RandomForestRegressor model is 0.007953500394549506\n"
     ]
    }
   ],
   "source": [
    "rf = RandomForestRegressor()\n",
    "\n",
    "rf.fit(X_train, y_train)\n",
    "\n",
    "y_pred_rf = rf.predict(X_test)\n",
    "\n",
    "rfreg_rmse = mean_squared_error(y_test, y_pred_rf)\n",
    "\n",
    "print(f\"The RMSE of the RandomForestRegressor model is {rfreg_rmse}\")"
   ]
  },
  {
   "cell_type": "code",
   "execution_count": 30,
   "id": "98f40ef9",
   "metadata": {},
   "outputs": [],
   "source": [
    "model_2=rf.fit(X, y)\n",
    "\n",
    "price = model_2.predict(df_test)\n",
    "\n",
    "df_test['price'] = price"
   ]
  },
  {
   "cell_type": "code",
   "execution_count": null,
   "id": "86391435",
   "metadata": {},
   "outputs": [],
   "source": [
    "df_pred=df_test[['id','price']]"
   ]
  },
  {
   "cell_type": "code",
   "execution_count": null,
   "id": "2533d3cc",
   "metadata": {},
   "outputs": [],
   "source": [
    "df = df_pred.set_index(\"id\")\n",
    "df.shape"
   ]
  },
  {
   "cell_type": "code",
   "execution_count": 32,
   "id": "f1fb2b9a",
   "metadata": {},
   "outputs": [],
   "source": [
    "df.to_csv(\"models/model1.csv\")"
   ]
  },
  {
   "cell_type": "code",
   "execution_count": null,
   "id": "e46f556d",
   "metadata": {},
   "outputs": [],
   "source": []
  }
 ],
 "metadata": {
  "kernelspec": {
   "display_name": "ironhack",
   "language": "python",
   "name": "ironhack"
  },
  "language_info": {
   "codemirror_mode": {
    "name": "ipython",
    "version": 3
   },
   "file_extension": ".py",
   "mimetype": "text/x-python",
   "name": "python",
   "nbconvert_exporter": "python",
   "pygments_lexer": "ipython3",
   "version": "3.8.8"
  }
 },
 "nbformat": 4,
 "nbformat_minor": 5
}
